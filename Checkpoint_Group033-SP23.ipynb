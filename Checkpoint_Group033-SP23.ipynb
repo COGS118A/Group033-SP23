{
 "cells": [
  {
   "attachments": {},
   "cell_type": "markdown",
   "metadata": {},
   "source": [
    "# COGS 118A - Project Checkpoint"
   ]
  },
  {
   "attachments": {},
   "cell_type": "markdown",
   "metadata": {},
   "source": [
    "# Names\n",
    "\n",
    "Hopefully your team is at least this good. Obviously you should replace these with your names.\n",
    "\n",
    "- Tyden Rucker\n",
    "- Areen Lu\n",
    "- Anya Bodhisartha\n",
    "- Nikhil Deepak\n",
    "- Jason Xu"
   ]
  },
  {
   "attachments": {},
   "cell_type": "markdown",
   "metadata": {},
   "source": [
    "# Abstract \n",
    "\n",
    "Pests are one of the main issues in the agricultural industry we have today. If left unchecked, they can damage plants, food supplies, and property. According to the research, using machine learning improves the accuracy of insect detection than the traditional insect identification method.\n",
    "In this project, we are aiming to classify and detect insect pests that have greatly affected agricultural products. Additionally, we want to measure the accuracy of different machine learning methods. The data are images which are already classified and labeled. Using this data, we will be processing the data then constructing a model to create a multi-class classifier and use mean squared error or cross validation to compare different models. Utilizing different evaluation metrics such as precision and recall and cross validation, we will determine the best hyperparameters and model. Our project will focus on model selection as well as algorithm selection to determine the best model that accurately predicts the class of the insect given an image. "
   ]
  },
  {
   "attachments": {},
   "cell_type": "markdown",
   "metadata": {},
   "source": [
    "# Background\n",
    "\n",
    "Agriculture is a substantial aspect of the world economy making up 5.4% of the United States GDP in 2021. This percentage amounts to $1.264 trillion.<a name=\"USDA\"></a>[<sup>[1]</sup>](#USDA)The performance of the agricultural sector has wide ranging ramifications and implications in all parts of everyday life. \n",
    "\n",
    "Insects are a critical component of the agricultural ecosystem. From major pollinators such as bees and mosquitoes to pests such as aphids, some insects provide vital services to farmers while others could possibly be detrimental to the survival of a crop and subsequently the livelihood of surrounding settlements. Large quantities of pests such as grasshoppers, locusts, and caterpillars can result in widespread damage to crops and potentially lead to famine.Traditionally, identifying and managing insects and pests has relied on labor intensive and time consuming methods. Farmers and other agricultural experts would visually inspect plants and use insecticides based on general knowledge of common insects. However, these approaches are limited in accuracy and efficiency, leading to environmental risks. Using machine learning for insect recognition helps solve these problems, as they process large amounts of image data. Farmers can benefit from improved accuracy and efficiency in pest management decisions. Accurate pest identification enables farmers to respond more effectively to threats, reducing the risk of crop damage and financial losses. \n",
    "\n",
    "Previous studies conducted on similar datasets, such as 9 and 24 insect classes of Wang and Xie datasets, enhanced, augmented and rescaled the images. Shape features, including area, perimeter, axis lengths, eccentricity, and compactness were then extracted from the insect images and stored in feature models. ANN, SVM, KNN, CNN (Convolutional Neural Network) and NB (Naive Bayes) algorithms were applied to classify the insects, and their performance was evaluated.<a name=\"Insect Classification\"></a>[<sup>[2]</sup>](#InsectClass) The CNN model had the highest classification accuracy of 91.5\\% and 90\\% for the Wang and Xie datasets. Another study by Xie et al. used a 19-layer CNN network which outperformed previous state-of-the-art models on the same task.<a name=\"National\"></a>[<sup>[4]</sup>](#National)\n",
    "\n",
    "It is significant to understand the optimal ways to identify insects. There are many ways to conduct insect classification, both traditional or through machine learning. However, machine learning provides an optimal solution that can be utilized to improve accuracy and efficiency of predictions. \n"
   ]
  },
  {
   "attachments": {},
   "cell_type": "markdown",
   "metadata": {},
   "source": [
    "# Problem Statement\n",
    "\n",
    "It is difficult to identify pests with traditional methods or machine learning methods that are not suitable for image processing.\n",
    "The multilayer perceptron (MLP) or Linear Discriminant Analysis or Convolutional Neural Network are models that will be focused on for this problem. MLP is a supervised learning method that is mainly used for pattern recognition. The Linear Discriminant Analysis is another method used for data classification. A convolutional neural network may perform the best for extracting data from our data. Our dataset consists of images that are correctly classified already. Our model aims to learn from this data set through supervised machine learning in order to correctly recognize patterns within the images and label them accordingly."
   ]
  },
  {
   "attachments": {},
   "cell_type": "markdown",
   "metadata": {},
   "source": [
    "# Data\n",
    "\n",
    "UPDATED FROM PROPOSAL!\n",
    "\n",
    "\n",
    "We will be utilizing the IP102 Dataset<a name=\"IP102\"></a>[<sup>[3]</sup>](#IP102). This dataset consists of 75,222 images and 102 classes of insects. It averages 737 samples/images per class. This data set already has a split of 6:1:3.\n",
    "The insects are of varying sizes and location within the image and therefore these placements might pose as critical variables for classifying an image . The labels are represented through one hot encoding in order to create labels that have a uniform effect on the measurement of the loss. Some special handlings that will be implemented is that the images will be scaled to a fixed input size in order to minimize the space used by each image. Time augmentation will be used where images will be altered, shifted ,flipped, and color shifts/adjustments. The critical variables will be extracted from the image during training.\n",
    "\n",
    "\n",
    "- any special handling, transformations, cleaning, etc you have done should be demonstrated here!\n"
   ]
  },
  {
   "cell_type": "code",
   "execution_count": null,
   "metadata": {},
   "outputs": [],
   "source": []
  },
  {
   "attachments": {},
   "cell_type": "markdown",
   "metadata": {},
   "source": [
    "# Proposed Solution\n",
    "\n",
    "\n",
    "It is essential to establish a strong connection to the problem at hand. In this case, correctly identifying insects in farming scenarios is crucial for pest control, determining optimal cultivation practices, and minimizing crop damage. By accurately classifying insects, farmers can take targeted actions and make informed decisions to optimize crop yield and reduce economic losses. \n",
    "The correct classification of insects is crucial for effective farming of crops from an economic perspective. To achieve this, we will employ an image classifier, such as a convolutional neural network (CNN) which is a multiclass classifier and by creating our own (explained below). By utilizing multiway classifiers, we take an input image and accurately classify it into predefined classes within the dataset.\n",
    "\n",
    "To construct a multiclass classifier, we will leverage different models like Linear Discriminant Analysis (LDA) and a neural network with a Multi-Layer Perceptron (MLP), aka CNN. The Sklearn library provides convenient methods for building these models and creating a classifier. It offers various options for the number of layers and solvers, allowing us to experiment and optimize the performance of the classifier. \n",
    "\n",
    "It's important to highlight the effectiveness of image classifiers in handling complex visual data. CNNs, in particular, excel at extracting features from images, enabling accurate classification, and combined with the use of LDA,  allows us to handle multiple classes and make predictions accordingly.\n",
    "\n",
    "The data set that we are currently using contains a training, test, and validation set, allowing us to perform rigorous testing and evaluation. Cross-validation techniques, such as k-fold validation, will also be applied to assess the generalization capability of the models.\n",
    "\n",
    "To establish a benchmark for testing our solution, we can utilize models that have shown high performance on similar tasks. One such model is AlexNet, which achieved impressive results on the ImageNet dataset, a large-scale image classification benchmark. By comparing the performance of our model against AlexNet, we can assess its effectiveness and determine areas for improvement.\n"
   ]
  },
  {
   "attachments": {},
   "cell_type": "markdown",
   "metadata": {},
   "source": [
    "# Evaluation Metrics\n",
    "\n",
    "We will be using a confusion matrix as an evaluation metric for this project. Utilizing Precision and recall taken from the confusion matrix will allow us to create evaluation metrics. Additionally, we will use AlexNet, which is the benchmark model used for image classification.\n",
    "\n",
    "\n",
    "The formulas included in this project:\n",
    "\\begin{align*}\n",
    "Precision: \\frac{TP}{TP + FP}\\\\\n",
    "Recall: \\frac{TP}{TP + FN}\\\\\n",
    "Accuracy: \\frac{TP + TN}{TP + TN + FP + FN}\\\\\n",
    "F1: \\frac{2*Precision * Recall}{Precision + Recall}\n",
    "\\end{align*}\n"
   ]
  },
  {
   "attachments": {},
   "cell_type": "markdown",
   "metadata": {},
   "source": [
    "# Preliminary results\n",
    "\n",
    "NEW SECTION!\n",
    "\n",
    "Please show any preliminary results you have managed to obtain.\n",
    "\n",
    "Examples would include:\n",
    "- Analyzing the suitability of a dataset or alogrithm for prediction/solving your problem \n",
    "- Performing feature selection or hand-designing features from the raw data. Describe the features available/created and/or show the code for selection/creation\n",
    "- Showing the performance of a base model/hyper-parameter setting.  Solve the task with one \"default\" algorithm and characterize the performance level of that base model.\n",
    "- Learning curves or validation curves for a particular model\n",
    "- Tables/graphs showing the performance of different models/hyper-parameters\n",
    "\n",
    "The dataset contains over 75k images and about 737 samples per a class. This is suitable to work with for solving a problem such as multi class classification, as there is a large amount of data for the model to generalize from. The problem with this dataset is that due to the large sum of data and the high dimensionality of the inputs, the model is hard to make computationally efficient and iterations take a long time to run. \n",
    "Our preliminary base model is a Resnet34 which is a convolutional neural network that utilizes residual blocks to take in an input image of 34x34 and output a classification. All input images are resized into a 34x34 image in order to feed this into the NN. The data is also transformed in a variety of psuedo random ways. The transforms that are applied to the input data are; a random vertical flip, a random adjustment to the sharpness, a random horizontal flip and color jitter. These flip transformations are used to increase the datasets size during training and also reduce overfitting and introduce diversity allowing the model to better generalize. "
   ]
  },
  {
   "attachments": {},
   "cell_type": "markdown",
   "metadata": {},
   "source": [
    "# Ethics & Privacy"
   ]
  },
  {
   "attachments": {},
   "cell_type": "markdown",
   "metadata": {},
   "source": [
    "The dataset used is readily available publicly on Kaggle. This eliminates the issues with data security and retention, as the data is already public. The data is sourced primarily from the Internet, relying on top 2000 search engine results for the names of insects, which could result in some collection bias. Video clips containing the insects are also used, which are captured as images at 5 frames per second. \n",
    "The images in the dataset are of insects, and do not involve human subjects or locations. This eliminates issues with consent, personally identifiable information, protected group status, or stereotype perpetuation. The output given by the algorithm may have harmful implications if insects are incorrectly identified as pests, as the overuse of pesticides can impact the environment. "
   ]
  },
  {
   "attachments": {},
   "cell_type": "markdown",
   "metadata": {},
   "source": [
    "# Team Expectations "
   ]
  },
  {
   "attachments": {},
   "cell_type": "markdown",
   "metadata": {},
   "source": [
    "Put things here that cement how you will interact/communicate as a team, how you will handle conflict and difficulty, how you will handle making decisions and setting goals/schedule, how much work you expect from each other, how you will handle deadlines, etc...\n",
    "* *Team Expectation 1:* Acceptable response times and commitment to the project.\n",
    "* *Team Expectation 2:* Quickly relay information if some deadlines can't be met.\n",
    "* *Team Expecation 3:* Help eachother in areas where you can.\n",
    "* *Team Expecation 4:* Be Quick and Honest about the ability to meet deadlines."
   ]
  },
  {
   "attachments": {},
   "cell_type": "markdown",
   "metadata": {},
   "source": [
    "# Project Timeline Proposal"
   ]
  },
  {
   "attachments": {},
   "cell_type": "markdown",
   "metadata": {},
   "source": [
    "UPDATE THE PROPOSAL TIMELINE ACCORDING TO WHAT HAS ACTUALLY HAPPENED AND HOW IT HAS EFFECTED YOUR FUTURE PLANS\n",
    "\n",
    "| Meeting Date  | Meeting Time| Completed Before Meeting  | Discuss at Meeting |\n",
    "|---|---|---|---|\n",
    "| 5/17  |  7:30 PM |  Brainstorm topics/questions (all)  | Determine best form of communication; Discuss and decide on final project topic; discuss hypothesis; background research | \n",
    "| 5/20  |  12 PM |  Do theoretical research on model performance improvement techniques (Tyden) | Discuss findings and analyze evaluation metrics | \n",
    "| 5/25  | 10 AM  | Finalize Dataset Search, Start Dataset Analysis (Areen)  | Assess group members' skills to lead each specific part   |\n",
    "| 5/28  | 6 PM  |  Analyze Dataset; Begin programming for project (Tyden) | Discuss/edit project code; Complete project |\n",
    "| 6/1  | 12 PM  | Complete analysis; Draft results/conclusion/discussion (All)| Discuss/edit full project |\n",
    "| 6/9 | Before 11:59 PM  | NA | Turn in Final Project  |"
   ]
  },
  {
   "attachments": {},
   "cell_type": "markdown",
   "metadata": {},
   "source": [
    "# Footnotes\n",
    "<a name=\"USDA\"></a>1.[^](#USDA): United States Department of Agriculture (2 Dec 2022) What is agriculture's share of the overall U.S. economy. *United States Department of Agriculture*. https://www.ers.usda.gov/data-products/chart-gallery/gallery/chart-detail/?chartId=58270<br> \n",
    "<a name=\"Insect Classification\"></a>2.[^](#InsectClass): Thenmozhi Kasinathan, Dakshayani Singaraju, Srinivasulu Reddy Uyyala,\n",
    "Insect classification and detection in field crops using modern machine learning techniques,\n",
    "Information Processing in Agriculture,\n",
    "Volume 8, Issue 3,\n",
    "2021,\n",
    "Pages 446-457,\n",
    "ISSN 2214-3173,\n",
    "https://doi.org/10.1016/j.inpa.2020.09.006.\n",
    "(https://www.sciencedirect.com/science/article/pii/S2214317320302067)<br> \n",
    "<a name=\"IP102\"></a>3.[^](#IP102): Ratul Mahjabin (2022) IP102-Dataset https://www.kaggle.com/datasets/rtlmhjbn/ip02-dataset?select=test.txt<br>\n",
    "<a name=\"National\"></a>4.[^](#National): Xia D, Chen P, Wang B, Zhang J, Xie C. Insect Detection and Classification Based on an Improved Convolutional Neural Network. Sensors (Basel). 2018 Nov 27;18(12):4169. doi: 10.3390/s18124169. PMID: 30486481; PMCID: PMC6308804.<br>"
   ]
  },
  {
   "cell_type": "code",
   "execution_count": null,
   "metadata": {},
   "outputs": [],
   "source": []
  }
 ],
 "metadata": {
  "kernelspec": {
   "display_name": "Python 3 (ipykernel)",
   "language": "python",
   "name": "python3"
  },
  "language_info": {
   "codemirror_mode": {
    "name": "ipython",
    "version": 3
   },
   "file_extension": ".py",
   "mimetype": "text/x-python",
   "name": "python",
   "nbconvert_exporter": "python",
   "pygments_lexer": "ipython3",
   "version": "3.9.13"
  }
 },
 "nbformat": 4,
 "nbformat_minor": 2
}
