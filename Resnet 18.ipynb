{
 "cells": [
  {
   "cell_type": "code",
   "execution_count": 1,
   "id": "8ee5cfeb",
   "metadata": {},
   "outputs": [],
   "source": [
    "import os\n",
    "from time import time\n",
    "from tqdm import tqdm\n",
    "import numpy\n",
    "\n",
    "import torch\n",
    "from torch.nn import Linear, CrossEntropyLoss\n",
    "from torch.optim import Adam\n",
    "from torch.utils.data import DataLoader\n",
    "\n",
    "import torchvision\n",
    "from torchvision.datasets import ImageFolder\n",
    "from torchvision.models import resnet18\n",
    "from torchvision.transforms import transforms\n",
    "import torch.nn as nn\n",
    "\n",
    "# Device\n",
    "device = torch.device(\"cuda\" if torch.cuda.is_available() else \"cpu\")"
   ]
  },
  {
   "cell_type": "code",
   "execution_count": 2,
   "id": "0af80261",
   "metadata": {},
   "outputs": [
    {
     "name": "stdout",
     "output_type": "stream",
     "text": [
      "Skipping, found downloaded files in \".\\ip02-dataset\" (use force=True to force download)\n"
     ]
    }
   ],
   "source": [
    "import opendatasets as od\n",
    "import pandas as pd\n",
    "od.download('https://www.kaggle.com/datasets/rtlmhjbn/ip02-dataset/code?select=classification')"
   ]
  },
  {
   "cell_type": "code",
   "execution_count": 3,
   "id": "23760354",
   "metadata": {},
   "outputs": [
    {
     "data": {
      "text/html": [
       "<div>\n",
       "<style scoped>\n",
       "    .dataframe tbody tr th:only-of-type {\n",
       "        vertical-align: middle;\n",
       "    }\n",
       "\n",
       "    .dataframe tbody tr th {\n",
       "        vertical-align: top;\n",
       "    }\n",
       "\n",
       "    .dataframe thead th {\n",
       "        text-align: right;\n",
       "    }\n",
       "</style>\n",
       "<table border=\"1\" class=\"dataframe\">\n",
       "  <thead>\n",
       "    <tr style=\"text-align: right;\">\n",
       "      <th></th>\n",
       "      <th>label</th>\n",
       "      <th>name</th>\n",
       "    </tr>\n",
       "  </thead>\n",
       "  <tbody>\n",
       "    <tr>\n",
       "      <th>0</th>\n",
       "      <td>1</td>\n",
       "      <td>rice leaf roller</td>\n",
       "    </tr>\n",
       "    <tr>\n",
       "      <th>1</th>\n",
       "      <td>2</td>\n",
       "      <td>rice leaf caterpillar</td>\n",
       "    </tr>\n",
       "    <tr>\n",
       "      <th>2</th>\n",
       "      <td>3</td>\n",
       "      <td>paddy stem maggot</td>\n",
       "    </tr>\n",
       "    <tr>\n",
       "      <th>3</th>\n",
       "      <td>4</td>\n",
       "      <td>asiatic rice borer</td>\n",
       "    </tr>\n",
       "    <tr>\n",
       "      <th>4</th>\n",
       "      <td>5</td>\n",
       "      <td>yellow rice borer</td>\n",
       "    </tr>\n",
       "    <tr>\n",
       "      <th>...</th>\n",
       "      <td>...</td>\n",
       "      <td>...</td>\n",
       "    </tr>\n",
       "    <tr>\n",
       "      <th>97</th>\n",
       "      <td>98</td>\n",
       "      <td>Chlumetia transversa</td>\n",
       "    </tr>\n",
       "    <tr>\n",
       "      <th>98</th>\n",
       "      <td>99</td>\n",
       "      <td>Mango flat beak leafhopper</td>\n",
       "    </tr>\n",
       "    <tr>\n",
       "      <th>99</th>\n",
       "      <td>100</td>\n",
       "      <td>Rhytidodera bowrinii white</td>\n",
       "    </tr>\n",
       "    <tr>\n",
       "      <th>100</th>\n",
       "      <td>101</td>\n",
       "      <td>Sternochetus frigidus</td>\n",
       "    </tr>\n",
       "    <tr>\n",
       "      <th>101</th>\n",
       "      <td>102</td>\n",
       "      <td>Cicadellidae</td>\n",
       "    </tr>\n",
       "  </tbody>\n",
       "</table>\n",
       "<p>102 rows × 2 columns</p>\n",
       "</div>"
      ],
      "text/plain": [
       "    label                        name\n",
       "0       1            rice leaf roller\n",
       "1       2       rice leaf caterpillar\n",
       "2       3           paddy stem maggot\n",
       "3       4          asiatic rice borer\n",
       "4       5           yellow rice borer\n",
       "..    ...                         ...\n",
       "97     98        Chlumetia transversa\n",
       "98     99  Mango flat beak leafhopper\n",
       "99    100  Rhytidodera bowrinii white\n",
       "100   101       Sternochetus frigidus\n",
       "101   102                Cicadellidae\n",
       "\n",
       "[102 rows x 2 columns]"
      ]
     },
     "execution_count": 3,
     "metadata": {},
     "output_type": "execute_result"
    }
   ],
   "source": [
    "f = open('ip02-dataset/classes.txt')\n",
    "label = []\n",
    "name = []\n",
    "for line in f.readlines():\n",
    "    label.append(int(line.split()[0]))\n",
    "    name.append(' '.join(line.split()[1:]))\n",
    "classes = pd.DataFrame([label, name]).T\n",
    "classes.columns = ['label','name']\n",
    "classes"
   ]
  },
  {
   "cell_type": "code",
   "execution_count": 4,
   "id": "afc2bde5",
   "metadata": {},
   "outputs": [
    {
     "name": "stdout",
     "output_type": "stream",
     "text": [
      "3\n"
     ]
    }
   ],
   "source": [
    "data_path = 'ip02-dataset/classification'\n",
    "stuff = os.listdir(data_path)\n",
    "print(len(stuff))"
   ]
  },
  {
   "cell_type": "code",
   "execution_count": 5,
   "id": "8121095a",
   "metadata": {},
   "outputs": [
    {
     "name": "stdout",
     "output_type": "stream",
     "text": [
      "45095\n",
      "22619\n",
      "7508\n"
     ]
    },
    {
     "data": {
      "text/html": [
       "<div>\n",
       "<style scoped>\n",
       "    .dataframe tbody tr th:only-of-type {\n",
       "        vertical-align: middle;\n",
       "    }\n",
       "\n",
       "    .dataframe tbody tr th {\n",
       "        vertical-align: top;\n",
       "    }\n",
       "\n",
       "    .dataframe thead th {\n",
       "        text-align: right;\n",
       "    }\n",
       "</style>\n",
       "<table border=\"1\" class=\"dataframe\">\n",
       "  <thead>\n",
       "    <tr style=\"text-align: right;\">\n",
       "      <th></th>\n",
       "      <th>image_path</th>\n",
       "      <th>label</th>\n",
       "    </tr>\n",
       "  </thead>\n",
       "  <tbody>\n",
       "    <tr>\n",
       "      <th>0</th>\n",
       "      <td>00002.jpg</td>\n",
       "      <td>0</td>\n",
       "    </tr>\n",
       "    <tr>\n",
       "      <th>1</th>\n",
       "      <td>00003.jpg</td>\n",
       "      <td>0</td>\n",
       "    </tr>\n",
       "    <tr>\n",
       "      <th>2</th>\n",
       "      <td>00005.jpg</td>\n",
       "      <td>0</td>\n",
       "    </tr>\n",
       "    <tr>\n",
       "      <th>3</th>\n",
       "      <td>00006.jpg</td>\n",
       "      <td>0</td>\n",
       "    </tr>\n",
       "    <tr>\n",
       "      <th>4</th>\n",
       "      <td>00008.jpg</td>\n",
       "      <td>0</td>\n",
       "    </tr>\n",
       "  </tbody>\n",
       "</table>\n",
       "</div>"
      ],
      "text/plain": [
       "  image_path  label\n",
       "0  00002.jpg      0\n",
       "1  00003.jpg      0\n",
       "2  00005.jpg      0\n",
       "3  00006.jpg      0\n",
       "4  00008.jpg      0"
      ]
     },
     "execution_count": 5,
     "metadata": {},
     "output_type": "execute_result"
    }
   ],
   "source": [
    "train_df = pd.read_csv('ip02-dataset/train.txt', sep=' ', header=None, engine='python')\n",
    "train_df.columns = ['image_path', 'label']\n",
    "\n",
    "test_df = pd.read_csv('ip02-dataset/test.txt', sep=' ', header=None, engine='python')\n",
    "test_df.columns = ['image_path', 'label']\n",
    "\n",
    "val_df = pd.read_csv('ip02-dataset/val.txt', sep=' ', header=None, engine='python')\n",
    "val_df.columns = ['image_path', 'label']\n",
    "\n",
    "print(len(train_df))\n",
    "print(len(test_df))\n",
    "print(len(val_df))\n",
    "train_df.head()"
   ]
  },
  {
   "cell_type": "code",
   "execution_count": 7,
   "id": "0082da32",
   "metadata": {},
   "outputs": [],
   "source": [
    "tfm = transforms.Compose([transforms.ToTensor(),\n",
    "                                     transforms.RandomVerticalFlip(),\n",
    "                                     transforms.RandomAdjustSharpness(sharpness_factor=1.5),\n",
    "                                     transforms.RandomHorizontalFlip(),\n",
    "                                     transforms.ColorJitter(),\n",
    "                                     transforms.Resize(size= (224,224),antialias=True)])"
   ]
  },
  {
   "cell_type": "code",
   "execution_count": 8,
   "id": "a9e45912",
   "metadata": {},
   "outputs": [],
   "source": [
    "train_ds = train_df['image_path'].tolist()\n",
    "test_ds = test_df['image_path'].tolist()\n",
    "val_ds = val_df['image_path'].tolist()\n",
    "\n",
    "#current_directory = os.getcwd()\n",
    "#print(current_directory)\n",
    "\n",
    "# I cant find it for some reason :/\n",
    "train_root = 'ip02-dataset/classification/train'\n",
    "test_root= 'ip02-dataset/classification/test'\n",
    "val_root = 'ip02-dataset/classification/val'\n",
    "\n",
    "train_ds = ImageFolder(train_root, transform=tfm)\n",
    "test_ds = ImageFolder(test_root, transform=tfm)\n",
    "valid_ds = ImageFolder(val_root, transform=tfm)"
   ]
  },
  {
   "cell_type": "code",
   "execution_count": 9,
   "id": "eeb7c67b",
   "metadata": {},
   "outputs": [
    {
     "name": "stdout",
     "output_type": "stream",
     "text": [
      "45095 22618\n",
      "{'0': 0, '1': 1, '10': 2, '100': 3, '101': 4, '11': 5, '12': 6, '13': 7, '14': 8, '15': 9, '16': 10, '17': 11, '18': 12, '19': 13, '2': 14, '20': 15, '21': 16, '22': 17, '23': 18, '24': 19, '25': 20, '26': 21, '27': 22, '28': 23, '29': 24, '3': 25, '30': 26, '31': 27, '32': 28, '33': 29, '34': 30, '35': 31, '36': 32, '37': 33, '38': 34, '39': 35, '4': 36, '40': 37, '41': 38, '42': 39, '43': 40, '44': 41, '45': 42, '46': 43, '47': 44, '48': 45, '49': 46, '5': 47, '50': 48, '51': 49, '52': 50, '53': 51, '54': 52, '55': 53, '56': 54, '57': 55, '58': 56, '59': 57, '6': 58, '60': 59, '61': 60, '62': 61, '63': 62, '64': 63, '65': 64, '66': 65, '67': 66, '68': 67, '69': 68, '7': 69, '70': 70, '71': 71, '72': 72, '73': 73, '74': 74, '75': 75, '76': 76, '77': 77, '78': 78, '79': 79, '8': 80, '80': 81, '81': 82, '82': 83, '83': 84, '84': 85, '85': 86, '86': 87, '87': 88, '88': 89, '89': 90, '9': 91, '90': 92, '91': 93, '92': 94, '93': 95, '94': 96, '95': 97, '96': 98, '97': 99, '98': 100, '99': 101}\n"
     ]
    }
   ],
   "source": [
    "LEN_TRAIN = len(train_ds)\n",
    "LEN_TEST = len(test_ds)\n",
    "print(LEN_TRAIN, LEN_TEST)\n",
    "print(train_ds.class_to_idx)"
   ]
  },
  {
   "cell_type": "code",
   "execution_count": 10,
   "id": "a8ab8970",
   "metadata": {},
   "outputs": [],
   "source": [
    "train_loader = DataLoader(train_ds, batch_size = 30, shuffle=True)\n",
    "test_loader = DataLoader(test_ds, batch_size=30, shuffle = True)"
   ]
  },
  {
   "cell_type": "code",
   "execution_count": 21,
   "id": "595954fe",
   "metadata": {},
   "outputs": [],
   "source": [
    "model = resnet18(pretrained=True)\n",
    "\n",
    "#assuming total of 102 classes\n",
    "model.fc = Linear(in_features= 512, out_features= 102)\n",
    "model = model.to(device)\n"
   ]
  },
  {
   "cell_type": "code",
   "execution_count": 22,
   "id": "cc5bbed0",
   "metadata": {},
   "outputs": [],
   "source": [
    "optimiser = Adam(model.parameters(), lr=3e-4, weight_decay=0.0001)\n",
    "loss_fn = nn.CrossEntropyLoss()"
   ]
  },
  {
   "cell_type": "code",
   "execution_count": null,
   "id": "ae0ca75f",
   "metadata": {},
   "outputs": [
    {
     "name": "stderr",
     "output_type": "stream",
     "text": [
      "  0%|▎                                                                             | 6/1504 [00:14<59:55,  2.40s/batch]"
     ]
    }
   ],
   "source": [
    "for epoch in range(3):\n",
    "    start = time()\n",
    "    \n",
    "    tr_acc = 0\n",
    "    test_acc = 0\n",
    "    batch_size = 30\n",
    "    model.train()\n",
    "    \n",
    "    with tqdm(train_loader, unit=\"batch\") as tepoch:\n",
    "        for xtrain, ytrain in tepoch:\n",
    "            optimiser.zero_grad()\n",
    "            \n",
    "            xtrain = xtrain.to(device)\n",
    "            train_prob = model(xtrain)\n",
    "            train_prob = train_prob.cpu()\n",
    "            \n",
    "            loss = loss_fn(train_prob, ytrain)\n",
    "            loss.backward()\n",
    "            optimiser.step()\n",
    "            \n",
    "            # Training ends\n",
    "            \n",
    "            train_pred = torch.max(train_prob, 1).indices\n",
    "            tr_acc += int(torch.sum(train_pred == ytrain))\n",
    "            \n",
    "        ep_tr_acc = tr_acc / (LEN_TRAIN*batch_size) \n",
    "    \n",
    "    \n",
    "    # Evaluate\n",
    "    model.eval()\n",
    "    with torch.no_grad():\n",
    "        for xtest, ytest in test_loader:\n",
    "            xtest = xtest.to(device)\n",
    "            test_prob = model(xtest)\n",
    "            test_prob = test_prob.cpu()\n",
    "            \n",
    "            test_pred = torch.max(test_prob,1).indices\n",
    "            test_acc += int(torch.sum(test_pred == ytest))\n",
    "            \n",
    "        ep_test_acc = test_acc / (LEN_TEST*batch_size)\n",
    "    \n",
    "    end = time()\n",
    "    duration = (end - start) / 60\n",
    "    \n",
    "    print(f\"Epoch: {epoch}, Time: {duration}, Loss: {loss}\\nTrain_acc: {ep_tr_acc}, Test_acc: {ep_test_acc}\")"
   ]
  },
  {
   "cell_type": "code",
   "execution_count": null,
   "id": "225afc96",
   "metadata": {},
   "outputs": [],
   "source": []
  }
 ],
 "metadata": {
  "kernelspec": {
   "display_name": "Python 3 (ipykernel)",
   "language": "python",
   "name": "python3"
  },
  "language_info": {
   "codemirror_mode": {
    "name": "ipython",
    "version": 3
   },
   "file_extension": ".py",
   "mimetype": "text/x-python",
   "name": "python",
   "nbconvert_exporter": "python",
   "pygments_lexer": "ipython3",
   "version": "3.9.13"
  }
 },
 "nbformat": 4,
 "nbformat_minor": 5
}
